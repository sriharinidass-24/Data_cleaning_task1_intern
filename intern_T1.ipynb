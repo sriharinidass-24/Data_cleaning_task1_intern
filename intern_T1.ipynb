{
  "nbformat": 4,
  "nbformat_minor": 0,
  "metadata": {
    "colab": {
      "provenance": []
    },
    "kernelspec": {
      "name": "python3",
      "display_name": "Python 3"
    },
    "language_info": {
      "name": "python"
    }
  },
  "cells": [
    {
      "cell_type": "code",
      "execution_count": 4,
      "metadata": {
        "colab": {
          "base_uri": "https://localhost:8080/"
        },
        "id": "-Ahs3Ab7NDXr",
        "outputId": "38d03969-fc89-4ea9-f838-cb3840050640"
      },
      "outputs": [
        {
          "output_type": "stream",
          "name": "stdout",
          "text": [
            "Initial Shape: (1000, 14)\n",
            "<class 'pandas.core.frame.DataFrame'>\n",
            "RangeIndex: 1000 entries, 0 to 999\n",
            "Data columns (total 14 columns):\n",
            " #   Column                Non-Null Count  Dtype  \n",
            "---  ------                --------------  -----  \n",
            " 0   Product_ID            1000 non-null   int64  \n",
            " 1   Sale_Date             1000 non-null   object \n",
            " 2   Sales_Rep             1000 non-null   object \n",
            " 3   Region                1000 non-null   object \n",
            " 4   Sales_Amount          1000 non-null   float64\n",
            " 5   Quantity_Sold         1000 non-null   int64  \n",
            " 6   Product_Category      1000 non-null   object \n",
            " 7   Unit_Cost             1000 non-null   float64\n",
            " 8   Unit_Price            1000 non-null   float64\n",
            " 9   Customer_Type         1000 non-null   object \n",
            " 10  Discount              1000 non-null   float64\n",
            " 11  Payment_Method        1000 non-null   object \n",
            " 12  Sales_Channel         1000 non-null   object \n",
            " 13  Region_and_Sales_Rep  1000 non-null   object \n",
            "dtypes: float64(4), int64(2), object(8)\n",
            "memory usage: 109.5+ KB\n",
            "\n",
            "INFO:\n",
            " None\n",
            "\n",
            "HEAD():\n",
            "    Product_ID   Sale_Date Sales_Rep Region  Sales_Amount  Quantity_Sold  \\\n",
            "0        1052  2023-02-03       Bob  North       5053.97             18   \n",
            "1        1093  2023-04-21       Bob   West       4384.02             17   \n",
            "2        1015  2023-09-21     David  South       4631.23             30   \n",
            "3        1072  2023-08-24       Bob  South       2167.94             39   \n",
            "4        1061  2023-03-24   Charlie   East       3750.20             13   \n",
            "5        1021  2023-02-11   Charlie   West       3761.15             32   \n",
            "6        1083  2023-04-11       Bob   West        618.31             29   \n",
            "7        1087  2023-01-06       Eve  South       7698.92             46   \n",
            "8        1075  2023-06-29     David  South       4223.39             30   \n",
            "9        1075  2023-10-09   Charlie   West       8239.58             18   \n",
            "\n",
            "  Product_Category  Unit_Cost  Unit_Price Customer_Type  Discount  \\\n",
            "0        Furniture     152.75      267.22     Returning      0.09   \n",
            "1        Furniture    3816.39     4209.44     Returning      0.11   \n",
            "2             Food     261.56      371.40     Returning      0.20   \n",
            "3         Clothing    4330.03     4467.75           New      0.02   \n",
            "4      Electronics     637.37      692.71           New      0.08   \n",
            "5             Food     900.79     1106.51           New      0.21   \n",
            "6        Furniture    2408.81     2624.09     Returning      0.14   \n",
            "7        Furniture    3702.51     3964.65           New      0.12   \n",
            "8        Furniture     738.06     1095.45           New      0.05   \n",
            "9         Clothing    2228.35     2682.34           New      0.13   \n",
            "\n",
            "  Payment_Method Sales_Channel Region_and_Sales_Rep  \n",
            "0           Cash        Online            North-Bob  \n",
            "1           Cash        Retail             West-Bob  \n",
            "2  Bank Transfer        Retail          South-David  \n",
            "3    Credit Card        Retail            South-Bob  \n",
            "4    Credit Card        Online         East-Charlie  \n",
            "5           Cash        Online         West-Charlie  \n",
            "6           Cash        Online             West-Bob  \n",
            "7  Bank Transfer        Online            South-Eve  \n",
            "8  Bank Transfer        Online          South-David  \n",
            "9  Bank Transfer        Online         West-Charlie  \n"
          ]
        }
      ],
      "source": [
        "import pandas as pd\n",
        "\n",
        "# Load the dataset\n",
        "df = pd.read_csv(\"/content/sales_data.csv\")\n",
        "\n",
        "# ---------------------------\n",
        "# 1. Check initial info\n",
        "# ---------------------------\n",
        "print(\"Initial Shape:\", df.shape)\n",
        "print(\"\\nINFO:\\n\",df.info())\n",
        "print(\"\\nHEAD():\\n\", df.head(10))\n"
      ]
    },
    {
      "cell_type": "code",
      "source": [
        "# ---------------------------\n",
        "# 2. Handle missing values\n",
        "# ---------------------------\n",
        "# Check missing values\n",
        "print(df.isnull().sum())\n"
      ],
      "metadata": {
        "colab": {
          "base_uri": "https://localhost:8080/"
        },
        "id": "MpVJDd_cOQ_E",
        "outputId": "c9ce6f96-bf21-4f06-906d-3cae55b10962"
      },
      "execution_count": 5,
      "outputs": [
        {
          "output_type": "stream",
          "name": "stdout",
          "text": [
            "Product_ID              0\n",
            "Sale_Date               0\n",
            "Sales_Rep               0\n",
            "Region                  0\n",
            "Sales_Amount            0\n",
            "Quantity_Sold           0\n",
            "Product_Category        0\n",
            "Unit_Cost               0\n",
            "Unit_Price              0\n",
            "Customer_Type           0\n",
            "Discount                0\n",
            "Payment_Method          0\n",
            "Sales_Channel           0\n",
            "Region_and_Sales_Rep    0\n",
            "dtype: int64\n"
          ]
        }
      ]
    },
    {
      "cell_type": "code",
      "source": [
        "# Example: Fill missing numeric values with median\n",
        "num_cols = df.select_dtypes(include=['float64', 'int64']).columns\n",
        "df[num_cols] = df[num_cols].fillna(df[num_cols].median())\n",
        "\n",
        "# Example: Fill missing categorical values with mode\n",
        "cat_cols = df.select_dtypes(include=['object']).columns\n",
        "for col in cat_cols:\n",
        "    df[col] = df[col].fillna(df[col].mode()[0])"
      ],
      "metadata": {
        "id": "DiNXF4KeOWvX"
      },
      "execution_count": 6,
      "outputs": []
    },
    {
      "cell_type": "code",
      "source": [
        "# ---------------------------\n",
        "# 3. Remove duplicate rows\n",
        "# ---------------------------\n",
        "df.drop_duplicates(inplace=True)"
      ],
      "metadata": {
        "id": "OFcV5JX9OZk0"
      },
      "execution_count": 7,
      "outputs": []
    },
    {
      "cell_type": "code",
      "source": [
        "# ---------------------------\n",
        "# 4. Standardize text values\n",
        "# ---------------------------\n",
        "# Example: Standardizing region names\n",
        "df['Region'] = df['Region'].str.strip().str.title()\n",
        "\n",
        "# Example: Standardizing Customer_Type\n",
        "df['Customer_Type'] = df['Customer_Type'].str.lower().replace({\n",
        "    'new': 'new',\n",
        "    'returning': 'returning'\n",
        "})"
      ],
      "metadata": {
        "id": "ooJPYsY0Oc_h"
      },
      "execution_count": 8,
      "outputs": []
    },
    {
      "cell_type": "code",
      "source": [
        "# ---------------------------\n",
        "# 5. Convert date format\n",
        "# ---------------------------\n",
        "df['Sale_Date'] = pd.to_datetime(df['Sale_Date'], errors='coerce')\n",
        "df['Sale_Date'] = df['Sale_Date'].dt.strftime('%d-%m-%Y')"
      ],
      "metadata": {
        "id": "duaa1Nv_OniO"
      },
      "execution_count": 9,
      "outputs": []
    },
    {
      "cell_type": "code",
      "source": [
        "# ---------------------------\n",
        "# 6. Rename column headers\n",
        "# ---------------------------\n",
        "df.columns = df.columns.str.strip().str.lower().str.replace(\" \", \"_\")"
      ],
      "metadata": {
        "id": "FwPFINJMOsIx"
      },
      "execution_count": 10,
      "outputs": []
    },
    {
      "cell_type": "code",
      "source": [
        "# ---------------------------\n",
        "# 7. Fix data types\n",
        "# ---------------------------\n",
        "df['quantity_sold'] = df['quantity_sold'].astype(int)\n",
        "df['sales_amount'] = df['sales_amount'].astype(float)"
      ],
      "metadata": {
        "id": "MRLxOQLHOwG0"
      },
      "execution_count": 11,
      "outputs": []
    },
    {
      "cell_type": "code",
      "source": [
        "# ---------------------------\n",
        "# Save cleaned dataset\n",
        "# ---------------------------\n",
        "df.to_csv(\"sales_data_cleaned.csv\", index=False)\n",
        "\n",
        "print(\"Final Shape:\", df.shape)\n",
        "print(\"Data Cleaning Done. Cleaned file saved as 'sales_data_cleaned.csv'\")\n"
      ],
      "metadata": {
        "colab": {
          "base_uri": "https://localhost:8080/"
        },
        "id": "KEP3XxH_NxTd",
        "outputId": "9565748b-4570-4c35-f4fc-b86eb4096fac"
      },
      "execution_count": 12,
      "outputs": [
        {
          "output_type": "stream",
          "name": "stdout",
          "text": [
            "Final Shape: (1000, 14)\n",
            "Data Cleaning Done. Cleaned file saved as 'sales_data_cleaned.csv'\n"
          ]
        }
      ]
    },
    {
      "cell_type": "code",
      "source": [
        "# Load the cleaned_dataset\n",
        "df_cl = pd.read_csv(\"/content/sales_data_cleaned.csv\")\n",
        "print(df_cl.head())"
      ],
      "metadata": {
        "colab": {
          "base_uri": "https://localhost:8080/"
        },
        "id": "iRu75dF2O-if",
        "outputId": "749d8dfb-584d-4954-fda1-c30e81e22381"
      },
      "execution_count": 15,
      "outputs": [
        {
          "output_type": "stream",
          "name": "stdout",
          "text": [
            "   product_id   sale_date sales_rep region  sales_amount  quantity_sold  \\\n",
            "0        1052  03-02-2023       Bob  North       5053.97             18   \n",
            "1        1093  21-04-2023       Bob   West       4384.02             17   \n",
            "2        1015  21-09-2023     David  South       4631.23             30   \n",
            "3        1072  24-08-2023       Bob  South       2167.94             39   \n",
            "4        1061  24-03-2023   Charlie   East       3750.20             13   \n",
            "\n",
            "  product_category  unit_cost  unit_price customer_type  discount  \\\n",
            "0        Furniture     152.75      267.22     returning      0.09   \n",
            "1        Furniture    3816.39     4209.44     returning      0.11   \n",
            "2             Food     261.56      371.40     returning      0.20   \n",
            "3         Clothing    4330.03     4467.75           new      0.02   \n",
            "4      Electronics     637.37      692.71           new      0.08   \n",
            "\n",
            "  payment_method sales_channel region_and_sales_rep  \n",
            "0           Cash        Online            North-Bob  \n",
            "1           Cash        Retail             West-Bob  \n",
            "2  Bank Transfer        Retail          South-David  \n",
            "3    Credit Card        Retail            South-Bob  \n",
            "4    Credit Card        Online         East-Charlie  \n"
          ]
        }
      ]
    },
    {
      "cell_type": "code",
      "source": [],
      "metadata": {
        "id": "H1aJ4tZZPIgg"
      },
      "execution_count": null,
      "outputs": []
    }
  ]
}